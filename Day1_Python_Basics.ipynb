{
  "nbformat": 4,
  "nbformat_minor": 0,
  "metadata": {
    "colab": {
      "provenance": [],
      "authorship_tag": "ABX9TyOOkSOOM503bYkJ7nRb7G6c",
      "include_colab_link": true
    },
    "kernelspec": {
      "name": "python3",
      "display_name": "Python 3"
    },
    "language_info": {
      "name": "python"
    }
  },
  "cells": [
    {
      "cell_type": "markdown",
      "metadata": {
        "id": "view-in-github",
        "colab_type": "text"
      },
      "source": [
        "<a href=\"https://colab.research.google.com/github/Cloudby-MB/01-secure-aws-vpc/blob/main/Day1_Python_Basics.ipynb\" target=\"_parent\"><img src=\"https://colab.research.google.com/assets/colab-badge.svg\" alt=\"Open In Colab\"/></a>"
      ]
    },
    {
      "cell_type": "code",
      "execution_count": null,
      "metadata": {
        "id": "u4NHf_LQqQ6m"
      },
      "outputs": [],
      "source": []
    },
    {
      "cell_type": "code",
      "source": [
        "# Day 1 - Your First Python Code\n",
        "\n",
        "# Hello world program\n",
        "print(\"Hello, world!\")\n",
        "\n",
        "# Variables and printing\n",
        "name = \"M\"\n",
        "age = 27\n",
        "print(\"Name:\", name)\n",
        "print(\"Age:\", age)\n",
        "\n",
        "# String formatting (f-string)\n",
        "print(f\"My name is {name} and I am {age} years old.\")\n",
        "\n",
        "# Basic math\n",
        "a = 10\n",
        "b = 3\n",
        "print(\"Addition:\", a + b)\n",
        "print(\"Division:\", a / b)\n",
        "print(\"Integer division:\", a // b)\n",
        "\n",
        "# Today I learned: how to use print(), create variables, and run basic math operations."
      ],
      "metadata": {
        "colab": {
          "base_uri": "https://localhost:8080/"
        },
        "id": "GWeasTM65brL",
        "outputId": "9c0e2313-21e9-42e9-82f5-41f9dc58fce2"
      },
      "execution_count": 1,
      "outputs": [
        {
          "output_type": "stream",
          "name": "stdout",
          "text": [
            "Hello, world!\n",
            "Name: M\n",
            "Age: 27\n",
            "My name is M and I am 27 years old.\n",
            "Addition: 13\n",
            "Division: 3.3333333333333335\n",
            "Integer division: 3\n"
          ]
        }
      ]
    }
  ]
}